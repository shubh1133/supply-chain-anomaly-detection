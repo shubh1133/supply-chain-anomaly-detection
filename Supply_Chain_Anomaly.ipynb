{
  "nbformat": 4,
  "nbformat_minor": 0,
  "metadata": {
    "colab": {
      "provenance": []
    },
    "kernelspec": {
      "name": "python3",
      "display_name": "Python 3"
    },
    "language_info": {
      "name": "python"
    }
  },
  "cells": [
    {
      "cell_type": "code",
      "execution_count": 1,
      "metadata": {
        "id": "Pgkhm2p-fQ3s"
      },
      "outputs": [],
      "source": [
        "import pandas as pd\n",
        "import numpy as np"
      ]
    },
    {
      "cell_type": "markdown",
      "source": [
        "Import the dataset"
      ],
      "metadata": {
        "id": "6zhuseqWtqmO"
      }
    },
    {
      "cell_type": "code",
      "source": [
        "file_path = 'dataset_ecommerce.csv'"
      ],
      "metadata": {
        "id": "IvFLG4DotWhb"
      },
      "execution_count": 2,
      "outputs": []
    },
    {
      "cell_type": "code",
      "source": [
        "df = pd.read_csv('dataset_ecommerce.csv')"
      ],
      "metadata": {
        "id": "k8rcoPjjs-wC"
      },
      "execution_count": 3,
      "outputs": []
    },
    {
      "cell_type": "markdown",
      "source": [
        "Initial Data Inspection"
      ],
      "metadata": {
        "id": "3lmUAhfEtfBr"
      }
    },
    {
      "cell_type": "markdown",
      "source": [
        "First 5 Rows of the raw data"
      ],
      "metadata": {
        "id": "tdkl9KhRu6mg"
      }
    },
    {
      "cell_type": "code",
      "source": [
        "print(df.head(10))"
      ],
      "metadata": {
        "colab": {
          "base_uri": "https://localhost:8080/"
        },
        "id": "A5Ke8fU5toPN",
        "outputId": "3ad82d50-20e1-406d-8ca5-0e6af6a39bb2"
      },
      "execution_count": 4,
      "outputs": [
        {
          "output_type": "stream",
          "name": "stdout",
          "text": [
            "   order_id  product_id  order_date courier_delivery        city  \\\n",
            "0    738527         194  2022-12-12              JNE   Palembang   \n",
            "1    149822         268  2023-04-13          SiCepat  Yogyakarta   \n",
            "2    635991         175  2023-01-01              JNE    Surabaya   \n",
            "3    221362         257  2023-05-15    POS Indonesia      Bekasi   \n",
            "4    687298         269  2022-07-30              JNE     Bandung   \n",
            "5    599035         191  2022-07-03              JNE  Yogyakarta   \n",
            "6    818755         112  2023-01-12              JNE    Surabaya   \n",
            "7    564488         257  2022-12-04              JNE    Makassar   \n",
            "8    633998         228  2023-05-01          SiCepat       Depok   \n",
            "9    578132         198  2022-11-02     Ninja Xpress   Pekanbaru   \n",
            "\n",
            "           district type_of_delivery  estimated_delivery_time_days  \\\n",
            "0       Bukit Kecil          Reguler                           4.0   \n",
            "1            Terban         Same Day                           5.0   \n",
            "2        Sambikerep         Same Day                           4.0   \n",
            "3      Medan Satria          Express                           4.0   \n",
            "4  Cibeunying Kaler          Express                           3.0   \n",
            "5        Gondomanan         Next Day                           4.0   \n",
            "6            Wiyung         Next Day                           3.0   \n",
            "7          Manggala         Same Day                           1.0   \n",
            "8            Cinere         Next Day                           1.0   \n",
            "9     Payung Sekaki         Next Day                           4.0   \n",
            "\n",
            "   product_rating  ontime  \n",
            "0             2.0  Ontime  \n",
            "1             5.0  Ontime  \n",
            "2             3.0  Ontime  \n",
            "3             1.0  Ontime  \n",
            "4             4.0  Ontime  \n",
            "5             5.0  Ontime  \n",
            "6             3.0  Ontime  \n",
            "7             1.0  Ontime  \n",
            "8             2.0  Ontime  \n",
            "9             3.0  Ontime  \n"
          ]
        }
      ]
    },
    {
      "cell_type": "markdown",
      "source": [
        "Data Information"
      ],
      "metadata": {
        "id": "RwOexVRxu260"
      }
    },
    {
      "cell_type": "code",
      "source": [
        "df.info()"
      ],
      "metadata": {
        "colab": {
          "base_uri": "https://localhost:8080/"
        },
        "id": "4fDHTyyht8Ff",
        "outputId": "9fbab62a-b147-4fc7-9e0d-64f96c5bf097"
      },
      "execution_count": 5,
      "outputs": [
        {
          "output_type": "stream",
          "name": "stdout",
          "text": [
            "<class 'pandas.core.frame.DataFrame'>\n",
            "RangeIndex: 507111 entries, 0 to 507110\n",
            "Data columns (total 10 columns):\n",
            " #   Column                        Non-Null Count   Dtype  \n",
            "---  ------                        --------------   -----  \n",
            " 0   order_id                      507111 non-null  int64  \n",
            " 1   product_id                    507111 non-null  int64  \n",
            " 2   order_date                    507111 non-null  object \n",
            " 3   courier_delivery              507110 non-null  object \n",
            " 4   city                          507110 non-null  object \n",
            " 5   district                      507110 non-null  object \n",
            " 6   type_of_delivery              507110 non-null  object \n",
            " 7   estimated_delivery_time_days  507110 non-null  float64\n",
            " 8   product_rating                507110 non-null  float64\n",
            " 9   ontime                        507110 non-null  object \n",
            "dtypes: float64(2), int64(2), object(6)\n",
            "memory usage: 38.7+ MB\n"
          ]
        }
      ]
    },
    {
      "cell_type": "markdown",
      "source": [
        "Descriptive Statistics for numeric columns"
      ],
      "metadata": {
        "id": "wSSqfx-6uxw_"
      }
    },
    {
      "cell_type": "code",
      "source": [
        "print(df.describe())"
      ],
      "metadata": {
        "colab": {
          "base_uri": "https://localhost:8080/"
        },
        "id": "dIcMbqE0uGV-",
        "outputId": "d7859f42-4814-4241-ed5b-8af898fbd7d2"
      },
      "execution_count": 6,
      "outputs": [
        {
          "output_type": "stream",
          "name": "stdout",
          "text": [
            "            order_id     product_id  estimated_delivery_time_days  \\\n",
            "count  507111.000000  507111.000000                 507110.000000   \n",
            "mean   500327.976064     205.421476                      3.000071   \n",
            "std    288482.333665      54.864231                      1.413442   \n",
            "min         0.000000     111.000000                      1.000000   \n",
            "25%    250856.000000     158.000000                      2.000000   \n",
            "50%    500443.000000     205.000000                      3.000000   \n",
            "75%    750302.000000     253.000000                      4.000000   \n",
            "max    999998.000000     300.000000                      5.000000   \n",
            "\n",
            "       product_rating  \n",
            "count   507110.000000  \n",
            "mean         3.000483  \n",
            "std          1.414362  \n",
            "min          1.000000  \n",
            "25%          2.000000  \n",
            "50%          3.000000  \n",
            "75%          4.000000  \n",
            "max          5.000000  \n"
          ]
        }
      ]
    },
    {
      "cell_type": "markdown",
      "source": [
        "Check for missing values"
      ],
      "metadata": {
        "id": "ItWmpqUKuumD"
      }
    },
    {
      "cell_type": "code",
      "source": [
        "print(df.isnull().sum())"
      ],
      "metadata": {
        "colab": {
          "base_uri": "https://localhost:8080/"
        },
        "id": "d6g2KYnKuZ2F",
        "outputId": "099005fe-f863-4439-cadf-95a3a8a56e28"
      },
      "execution_count": 7,
      "outputs": [
        {
          "output_type": "stream",
          "name": "stdout",
          "text": [
            "order_id                        0\n",
            "product_id                      0\n",
            "order_date                      0\n",
            "courier_delivery                1\n",
            "city                            1\n",
            "district                        1\n",
            "type_of_delivery                1\n",
            "estimated_delivery_time_days    1\n",
            "product_rating                  1\n",
            "ontime                          1\n",
            "dtype: int64\n"
          ]
        }
      ]
    },
    {
      "cell_type": "markdown",
      "source": [
        "Data Cleaning And Type Conversion"
      ],
      "metadata": {
        "id": "W7XIKMU8vCiN"
      }
    },
    {
      "cell_type": "markdown",
      "source": [
        "Rename the column for consistency"
      ],
      "metadata": {
        "id": "z0en0o79vHIV"
      }
    },
    {
      "cell_type": "code",
      "source": [
        "df.columns = df.columns.str.lower().str.replace(' ', '_').str.replace(':', '').str.replace('/', '_').str.replace('-', '_').str.strip()"
      ],
      "metadata": {
        "id": "WKR4NeL1vGap"
      },
      "execution_count": 8,
      "outputs": []
    },
    {
      "cell_type": "code",
      "source": [
        "print(df.columns.tolist())"
      ],
      "metadata": {
        "colab": {
          "base_uri": "https://localhost:8080/"
        },
        "id": "zRejXujOvRki",
        "outputId": "8c34ec75-c3e6-4d08-93c5-8df8325d8896"
      },
      "execution_count": 9,
      "outputs": [
        {
          "output_type": "stream",
          "name": "stdout",
          "text": [
            "['order_id', 'product_id', 'order_date', 'courier_delivery', 'city', 'district', 'type_of_delivery', 'estimated_delivery_time_days', 'product_rating', 'ontime']\n"
          ]
        }
      ]
    },
    {
      "cell_type": "markdown",
      "source": [
        "Convert Order_date column to datetime objects"
      ],
      "metadata": {
        "id": "LWKqNDXBvZOF"
      }
    },
    {
      "cell_type": "code",
      "source": [
        "df['order_date'] = pd.to_datetime(df['order_date'], errors='coerce')"
      ],
      "metadata": {
        "id": "7JGHrw6GvfKl"
      },
      "execution_count": 10,
      "outputs": []
    },
    {
      "cell_type": "code",
      "source": [
        "df.dropna(subset=['order_date'], inplace=True)\n",
        "print(f\"\\n--- Rows after handling missing or invalid order_dates: {len(df)} ---\")\n"
      ],
      "metadata": {
        "colab": {
          "base_uri": "https://localhost:8080/"
        },
        "id": "9H9bfXCbv2DE",
        "outputId": "144bf610-1f26-4ee3-e3e6-efbadc9696cf"
      },
      "execution_count": 11,
      "outputs": [
        {
          "output_type": "stream",
          "name": "stdout",
          "text": [
            "\n",
            "--- Rows after handling missing or invalid order_dates: 507111 ---\n"
          ]
        }
      ]
    },
    {
      "cell_type": "markdown",
      "source": [
        "Convert other relevant columns to appropriate numeric types"
      ],
      "metadata": {
        "id": "TwIxdSMXwdl0"
      }
    },
    {
      "cell_type": "code",
      "source": [
        "numeric_cols_to_clean = [\n",
        "    'unit_price', 'shipping_cost', 'product_rating',\n",
        "    'estimated_delivery_time_days', 'customer_care_calls', 'prior_purchases'\n",
        "    # Add any other columns you see that should be numbers, like 'discount_offered' or 'weight_in_gms'\n",
        "]"
      ],
      "metadata": {
        "id": "20-yua9ZwKlH"
      },
      "execution_count": 12,
      "outputs": []
    },
    {
      "cell_type": "code",
      "source": [
        "for col in numeric_cols_to_clean:\n",
        "    if col in df.columns: # Check if column actually exists in DataFrame\n",
        "        # If the column's current type is 'object' (text), it might contain non-numeric characters.\n",
        "        if df[col].dtype == 'object':\n",
        "            # Remove common non-numeric characters like '$', ',', '%' from strings before converting to number\n",
        "            df[col] = df[col].astype(str).str.replace(r'[$,%]', '', regex=True)\n",
        "        # Convert to numeric. errors='coerce' turns unconvertible values into NaN.\n",
        "        df[col] = pd.to_numeric(df[col], errors='coerce')\n"
      ],
      "metadata": {
        "id": "j-auUnTQwT0i"
      },
      "execution_count": 13,
      "outputs": []
    },
    {
      "cell_type": "markdown",
      "source": [
        "Handles remaining missing values (NaNs) in numeric columns"
      ],
      "metadata": {
        "id": "UZLSNojwwplK"
      }
    },
    {
      "cell_type": "code",
      "source": [
        "for col in ['unit_price', 'shipping_cost', 'customer_care_calls', 'prior_purchases']:\n",
        "    if col in df.columns:\n",
        "        if df[col].isnull().any(): # Only attempt to fill if there are actual NaNs\n",
        "            df[col].fillna(0, inplace=True) # Assuming 0 for missing quantities/costs/counts\n",
        "\n",
        "for col in ['product_rating', 'estimated_delivery_time_days']:\n",
        "    if col in df.columns:\n",
        "        if df[col].isnull().any():\n",
        "            df[col].fillna(df[col].median(), inplace=True) # Median for continuous metrics like ratings/times\n"
      ],
      "metadata": {
        "id": "dtPpKrxcw2XH",
        "colab": {
          "base_uri": "https://localhost:8080/"
        },
        "outputId": "6f2962c8-146f-4c40-fa8d-8f820f3b14d7"
      },
      "execution_count": 14,
      "outputs": [
        {
          "output_type": "stream",
          "name": "stderr",
          "text": [
            "/tmp/ipython-input-14-1181154811.py:9: FutureWarning: A value is trying to be set on a copy of a DataFrame or Series through chained assignment using an inplace method.\n",
            "The behavior will change in pandas 3.0. This inplace method will never work because the intermediate object on which we are setting values always behaves as a copy.\n",
            "\n",
            "For example, when doing 'df[col].method(value, inplace=True)', try using 'df.method({col: value}, inplace=True)' or df[col] = df[col].method(value) instead, to perform the operation inplace on the original object.\n",
            "\n",
            "\n",
            "  df[col].fillna(df[col].median(), inplace=True) # Median for continuous metrics like ratings/times\n"
          ]
        }
      ]
    },
    {
      "cell_type": "markdown",
      "source": [
        "Drop Dupilcates Rows"
      ],
      "metadata": {
        "id": "9s4ecY7ExCZ-"
      }
    },
    {
      "cell_type": "code",
      "source": [
        "df.drop_duplicates(inplace=True)"
      ],
      "metadata": {
        "id": "5HNr83q6xI2i"
      },
      "execution_count": 15,
      "outputs": []
    },
    {
      "cell_type": "code",
      "source": [
        "print(f\"--- Rows after dropping duplicates: {len(df)} ---\")"
      ],
      "metadata": {
        "colab": {
          "base_uri": "https://localhost:8080/"
        },
        "id": "KY8gIUi0xFt7",
        "outputId": "ba2377dd-78ea-4f2f-e3fc-e65f3a411af8"
      },
      "execution_count": 16,
      "outputs": [
        {
          "output_type": "stream",
          "name": "stdout",
          "text": [
            "--- Rows after dropping duplicates: 507111 ---\n"
          ]
        }
      ]
    },
    {
      "cell_type": "markdown",
      "source": [
        "Final check of data types and null"
      ],
      "metadata": {
        "id": "kdwXh3tvxR27"
      }
    },
    {
      "cell_type": "code",
      "source": [
        "print(\"\\n--- Final Data Types after cleaning ---\")\n",
        "print(df.dtypes)\n",
        "print(\"\\n--- Missing Values after cleaning ---\")\n",
        "print(df.isnull().sum())"
      ],
      "metadata": {
        "colab": {
          "base_uri": "https://localhost:8080/"
        },
        "id": "7lQvtEJmxQ7Z",
        "outputId": "b846209f-d1ec-4cd7-c6a5-314e47464d20"
      },
      "execution_count": 17,
      "outputs": [
        {
          "output_type": "stream",
          "name": "stdout",
          "text": [
            "\n",
            "--- Final Data Types after cleaning ---\n",
            "order_id                                 int64\n",
            "product_id                               int64\n",
            "order_date                      datetime64[ns]\n",
            "courier_delivery                        object\n",
            "city                                    object\n",
            "district                                object\n",
            "type_of_delivery                        object\n",
            "estimated_delivery_time_days           float64\n",
            "product_rating                         float64\n",
            "ontime                                  object\n",
            "dtype: object\n",
            "\n",
            "--- Missing Values after cleaning ---\n",
            "order_id                        0\n",
            "product_id                      0\n",
            "order_date                      0\n",
            "courier_delivery                1\n",
            "city                            1\n",
            "district                        1\n",
            "type_of_delivery                1\n",
            "estimated_delivery_time_days    0\n",
            "product_rating                  0\n",
            "ontime                          1\n",
            "dtype: int64\n"
          ]
        }
      ]
    },
    {
      "cell_type": "markdown",
      "source": [
        "Feature Engineering ( Creating Anomaly Flags )\n"
      ],
      "metadata": {
        "id": "da13CtbbzRLq"
      }
    },
    {
      "cell_type": "markdown",
      "source": [
        "Sort Date by order_date for accurate rolling calcutions"
      ],
      "metadata": {
        "id": "D2SP13zO5k3v"
      }
    },
    {
      "cell_type": "code",
      "source": [
        "df = df.sort_values(by='order_date').reset_index(drop=True)"
      ],
      "metadata": {
        "id": "8Od_lZPP5f-3"
      },
      "execution_count": 18,
      "outputs": []
    },
    {
      "cell_type": "markdown",
      "source": [
        "Anamoly Area 1 : Shipping Performance Anomalies"
      ],
      "metadata": {
        "id": "w2OaRoK28NPq"
      }
    },
    {
      "cell_type": "markdown",
      "source": [
        "Flag A: Unusaully long estimated delivery time (Anomaly if estimated time is in the top 5% of all estimated times)"
      ],
      "metadata": {
        "id": "1lcJ11hR8btX"
      }
    },
    {
      "cell_type": "code",
      "source": [
        "long_estimated_delivery_threshold = 4 # Explicitly set threshold to capture estimated times of 5 days\n",
        "df['long_estimated_delivery_anomaly_flag'] = np.where(\n",
        "    df['estimated_delivery_time_days'] > long_estimated_delivery_threshold,\n",
        "    'LONG_ESTIMATED_DELIVERY',\n",
        "    None\n",
        ")\n",
        "print(f\"--- Number of 'LONG_ESTIMATED_DELIVERY' flags detected: {df['long_estimated_delivery_anomaly_flag'].count()} ---\")\n",
        "# Why: We've adjusted the threshold based on data distribution to ensure anomalies are captured."
      ],
      "metadata": {
        "colab": {
          "base_uri": "https://localhost:8080/"
        },
        "id": "Fp5e8bSu8VNG",
        "outputId": "9e6308bf-451c-4c4b-e22b-1f5c9b89d7fa"
      },
      "execution_count": 19,
      "outputs": [
        {
          "output_type": "stream",
          "name": "stdout",
          "text": [
            "--- Number of 'LONG_ESTIMATED_DELIVERY' flags detected: 101198 ---\n"
          ]
        }
      ]
    },
    {
      "cell_type": "markdown",
      "source": [
        "Flag B: Not On Time Delivery (Directly from 'ontime' column)"
      ],
      "metadata": {
        "id": "8jYsB-dy81W1"
      }
    },
    {
      "cell_type": "code",
      "source": [
        "# Flag B: Not On Time Delivery (DISABLED for this dataset)\n",
        "# Since df['ontime'].value_counts() shows only 1, this flag cannot be used.\n",
        "# df['not_ontime_delivery_anomaly_flag'] = np.where(\n",
        "#     df['ontime'] == 0, # The dataset seems to have no '0' values for 'ontime'\n",
        "#     'NOT_ON_TIME_DELIVERY',\n",
        "#     None\n",
        "# )\n",
        "# print(f\"--- Number of 'NOT_ON_TIME_DELIVERY' flags detected: {df['not_ontime_delivery_anomaly_flag'].count()} ---\")\n",
        "# print(\"--- NOTE: 'not_ontime_delivery_anomaly_flag' is currently disabled as 'ontime' column contains only '1'. ---\")\n",
        "\n"
      ],
      "metadata": {
        "id": "ElX_g32980oq"
      },
      "execution_count": 20,
      "outputs": []
    },
    {
      "cell_type": "markdown",
      "source": [
        "Anomaly Area 2: Product Rating Anomalies (Customer Feedback) ---"
      ],
      "metadata": {
        "id": "roCyhNKEw9BO"
      }
    },
    {
      "cell_type": "code",
      "source": [
        "# Assuming 'product_rating' ranges from 1 to 5. Let's flag anything below a 2.5 rating as low.\n",
        "# You can check df['product_rating'].describe() again to fine-tune this.\n",
        "low_product_rating_threshold = 2.5 # Flag if rating is less than 2.5\n",
        "df['low_product_rating_anomaly_flag'] = np.where(\n",
        "    df['product_rating'] < low_product_rating_threshold,\n",
        "    'LOW_PRODUCT_RATING',\n",
        "    None\n",
        ")\n",
        "print(f\"--- Number of 'LOW_PRODUCT_RATING' flags detected: {df['low_product_rating_anomaly_flag'].count()} ---\")\n"
      ],
      "metadata": {
        "colab": {
          "base_uri": "https://localhost:8080/"
        },
        "id": "rZ07bVIWw4zM",
        "outputId": "e9c74bdc-89ee-44f5-a11a-f20afdda2f15"
      },
      "execution_count": 21,
      "outputs": [
        {
          "output_type": "stream",
          "name": "stdout",
          "text": [
            "--- Number of 'LOW_PRODUCT_RATING' flags detected: 202450 ---\n"
          ]
        }
      ]
    },
    {
      "cell_type": "code",
      "source": [
        "# Display a sample of the DataFrame with new flags (selected columns)\n",
        "print(\"\\n--- DataFrame Head with New Anomaly Flags (selected columns) ---\")\n",
        "print(df[['order_date', 'estimated_delivery_time_days', 'long_estimated_delivery_anomaly_flag',\n",
        "          'product_rating', 'low_product_rating_anomaly_flag'\n",
        "         ]].head(10))"
      ],
      "metadata": {
        "colab": {
          "base_uri": "https://localhost:8080/"
        },
        "id": "VTr077hL2LSg",
        "outputId": "289ca348-12f5-48c7-fdab-3064e88fbda1"
      },
      "execution_count": 23,
      "outputs": [
        {
          "output_type": "stream",
          "name": "stdout",
          "text": [
            "\n",
            "--- DataFrame Head with New Anomaly Flags (selected columns) ---\n",
            "  order_date  estimated_delivery_time_days  \\\n",
            "0 2022-06-02                           3.0   \n",
            "1 2022-06-11                           1.0   \n",
            "2 2022-06-11                           4.0   \n",
            "3 2022-06-11                           1.0   \n",
            "4 2022-06-11                           5.0   \n",
            "5 2022-06-11                           1.0   \n",
            "6 2022-06-11                           4.0   \n",
            "7 2022-06-11                           4.0   \n",
            "8 2022-06-11                           3.0   \n",
            "9 2022-06-11                           1.0   \n",
            "\n",
            "  long_estimated_delivery_anomaly_flag  product_rating  \\\n",
            "0                                 None             3.0   \n",
            "1                                 None             4.0   \n",
            "2                                 None             5.0   \n",
            "3                                 None             3.0   \n",
            "4              LONG_ESTIMATED_DELIVERY             3.0   \n",
            "5                                 None             3.0   \n",
            "6                                 None             2.0   \n",
            "7                                 None             5.0   \n",
            "8                                 None             1.0   \n",
            "9                                 None             3.0   \n",
            "\n",
            "  low_product_rating_anomaly_flag  \n",
            "0                            None  \n",
            "1                            None  \n",
            "2                            None  \n",
            "3                            None  \n",
            "4                            None  \n",
            "5                            None  \n",
            "6              LOW_PRODUCT_RATING  \n",
            "7                            None  \n",
            "8              LOW_PRODUCT_RATING  \n",
            "9                            None  \n"
          ]
        }
      ]
    },
    {
      "cell_type": "code",
      "source": [
        "# Define the output file name for the cleaned data\n",
        "output_file_name = 'e_commerce_shipping_data_cleaned.csv'\n",
        "\n",
        "# Save the cleaned and transformed DataFrame to a new CSV file\n",
        "# index=False prevents pandas from writing the DataFrame index (row numbers) as a column in the CSV.\n",
        "df.to_csv(output_file_name, index=False)\n",
        "\n",
        "print(f\"\\n--- Cleaned and transformed data saved successfully to {output_file_name} ---\")\n",
        "print(\"\\n--- Final Data Info (after all transformations) ---\")\n",
        "df.info() # Displays the final state of your DataFrame"
      ],
      "metadata": {
        "colab": {
          "base_uri": "https://localhost:8080/"
        },
        "id": "AgY1z-I82K9w",
        "outputId": "8f553d37-01e6-4a95-ed6c-2693889158e9"
      },
      "execution_count": 24,
      "outputs": [
        {
          "output_type": "stream",
          "name": "stdout",
          "text": [
            "\n",
            "--- Cleaned and transformed data saved successfully to e_commerce_shipping_data_cleaned.csv ---\n",
            "\n",
            "--- Final Data Info (after all transformations) ---\n",
            "<class 'pandas.core.frame.DataFrame'>\n",
            "RangeIndex: 507111 entries, 0 to 507110\n",
            "Data columns (total 12 columns):\n",
            " #   Column                                Non-Null Count   Dtype         \n",
            "---  ------                                --------------   -----         \n",
            " 0   order_id                              507111 non-null  int64         \n",
            " 1   product_id                            507111 non-null  int64         \n",
            " 2   order_date                            507111 non-null  datetime64[ns]\n",
            " 3   courier_delivery                      507110 non-null  object        \n",
            " 4   city                                  507110 non-null  object        \n",
            " 5   district                              507110 non-null  object        \n",
            " 6   type_of_delivery                      507110 non-null  object        \n",
            " 7   estimated_delivery_time_days          507111 non-null  float64       \n",
            " 8   product_rating                        507111 non-null  float64       \n",
            " 9   ontime                                507110 non-null  object        \n",
            " 10  long_estimated_delivery_anomaly_flag  101198 non-null  object        \n",
            " 11  low_product_rating_anomaly_flag       202450 non-null  object        \n",
            "dtypes: datetime64[ns](1), float64(2), int64(2), object(7)\n",
            "memory usage: 46.4+ MB\n"
          ]
        }
      ]
    }
  ]
}